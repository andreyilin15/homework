{
 "cells": [
  {
   "cell_type": "markdown",
   "metadata": {},
   "source": [
    "## Задание № 1 "
   ]
  },
  {
   "cell_type": "code",
   "execution_count": 131,
   "metadata": {},
   "outputs": [
    {
     "name": "stdout",
     "output_type": "stream",
     "text": [
      "{98, 35, 15, 213, 54, 119}\n"
     ]
    }
   ],
   "source": [
    "ids = {\n",
    "'user1': [213, 213, 213, 15, 213],\n",
    "'user2': [54, 54, 119, 119, 119],\n",
    "'user3': [213, 98, 98, 35]\n",
    "}\n",
    "list_values = []\n",
    "for elements in ids.values():\n",
    "    list_values.extend(elements)\n",
    "print(set(list_values))"
   ]
  },
  {
   "cell_type": "markdown",
   "metadata": {},
   "source": [
    "## Задание № 2"
   ]
  },
  {
   "cell_type": "code",
   "execution_count": 70,
   "metadata": {},
   "outputs": [
    {
     "name": "stdout",
     "output_type": "stream",
     "text": [
      "Поисковых запросов, содержащих 3 слов(а): 57.14285714285714 %\n",
      "Поисковых запросов, содержащих 2 слов(а): 42.857142857142854 %\n"
     ]
    }
   ],
   "source": [
    "queries = [\n",
    "'смотреть сериалы онлайн',\n",
    "'новости спорта',\n",
    "'афиша кино',\n",
    "'курс доллара',\n",
    "'сериалы этим летом',\n",
    "'курс по питону',\n",
    "'сериалы про спорт',\n",
    "]\n",
    "list_2_word = []\n",
    "list_3_word = []\n",
    "for word in queries:\n",
    "    if len((word.split(' '))) == 3:\n",
    "        list_3_word.append(word)\n",
    "    if len((word.split(' '))) == 2:\n",
    "        list_2_word.append(word)\n",
    "per_3 = len(list_3_word) / len(queries) * 100\n",
    "print ('Поисковых запросов, содержащих 3 слов(а):', per_3,'%')\n",
    "per_2 = len(list_2_word) / len(queries) * 100\n",
    "print ('Поисковых запросов, содержащих 2 слов(а):', per_2,'%')"
   ]
  },
  {
   "cell_type": "markdown",
   "metadata": {},
   "source": [
    "## Задание № 3"
   ]
  },
  {
   "cell_type": "code",
   "execution_count": 98,
   "metadata": {},
   "outputs": [
    {
     "name": "stdout",
     "output_type": "stream",
     "text": [
      "{'vk': {'revenue': 103, 'cost': 98, 'ROI:': 5.102040816326525}, 'yandex': {'revenue': 179, 'cost': 153, 'ROI:': 16.99346405228759}, 'facebook': {'revenue': 103, 'cost': 110, 'ROI:': -6.36363636363636}, 'adwords': {'revenue': 35, 'cost': 34, 'ROI:': 2.941176470588225}, 'twitter': {'revenue': 11, 'cost': 24, 'ROI:': -54.16666666666667}}\n"
     ]
    }
   ],
   "source": [
    "results = {\n",
    "'vk': {'revenue': 103, 'cost': 98},\n",
    "'yandex': {'revenue': 179, 'cost': 153},\n",
    "'facebook': {'revenue': 103, 'cost': 110},\n",
    "'adwords': {'revenue': 35, 'cost': 34},\n",
    "'twitter': {'revenue': 11, 'cost': 24},\n",
    "}\n",
    "for company in results:\n",
    "    rev = results[company]['revenue']\n",
    "    cos = results[company]['cost']\n",
    "    roi = (rev / cos - 1) * 100\n",
    "    results[company].setdefault ('ROI:',roi)\n",
    "print(results)"
   ]
  },
  {
   "cell_type": "markdown",
   "metadata": {},
   "source": [
    "## Задание № 4"
   ]
  },
  {
   "cell_type": "code",
   "execution_count": 131,
   "metadata": {},
   "outputs": [
    {
     "name": "stdout",
     "output_type": "stream",
     "text": [
      "Максимальный объем продаж на рекламном канале: vk\n"
     ]
    }
   ],
   "source": [
    "stats = {'facebook': 55, 'yandex': 115, 'vk': 120, 'google': 99, 'email': 42, 'ok': 98}\n",
    "stats_val = [] \n",
    "for meaning in stats.values():\n",
    "    stats_val.append(meaning)\n",
    "    stats_val_max = max(stats_val)\n",
    "for key in stats:\n",
    "    if stats[key] == stats_val_max:\n",
    "        print('Максимальный объем продаж на рекламном канале:',key)"
   ]
  }
 ],
 "metadata": {
  "kernelspec": {
   "display_name": "Python 3",
   "language": "python",
   "name": "python3"
  },
  "language_info": {
   "codemirror_mode": {
    "name": "ipython",
    "version": 3
   },
   "file_extension": ".py",
   "mimetype": "text/x-python",
   "name": "python",
   "nbconvert_exporter": "python",
   "pygments_lexer": "ipython3",
   "version": "3.8.5"
  }
 },
 "nbformat": 4,
 "nbformat_minor": 4
}
