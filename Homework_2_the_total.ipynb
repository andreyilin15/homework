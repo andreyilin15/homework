{
 "cells": [
  {
   "cell_type": "markdown",
   "metadata": {},
   "source": [
    "## Задание 1"
   ]
  },
  {
   "cell_type": "code",
   "execution_count": 50,
   "metadata": {},
   "outputs": [
    {
     "name": "stdout",
     "output_type": "stream",
     "text": [
      "o i\n"
     ]
    }
   ],
   "source": [
    "word = 'relationship'\n",
    "if len (word) % 2 == 0:\n",
    "    index_1 = int(len(word) / 2)\n",
    "    index_2 = int(len(word) / 2 - 1)\n",
    "    print(word [index_1], word [index_2])\n",
    "else: \n",
    "    index_1 = int(len(word) / 2 - 0.5)\n",
    "    print(word [index_1])"
   ]
  },
  {
   "cell_type": "markdown",
   "metadata": {},
   "source": [
    "## Задание 2"
   ]
  },
  {
   "cell_type": "code",
   "execution_count": 51,
   "metadata": {},
   "outputs": [
    {
     "name": "stdout",
     "output_type": "stream",
     "text": [
      " Введите первое число - 2\n",
      " Введите число - 3\n",
      " Введите число - 9\n",
      " Введите число - 0\n",
      "Результат -  14\n"
     ]
    }
   ],
   "source": [
    "# вариант 1\n",
    "\n",
    "user_input_list = []\n",
    "user_input = int(input(' Введите первое число - '))\n",
    "while user_input != 0:\n",
    "    user_input_list.insert (0, user_input) \n",
    "    user_input = int(input(' Введите число - '))\n",
    "print ('Результат - ',sum(user_input_list))"
   ]
  },
  {
   "cell_type": "code",
   "execution_count": 52,
   "metadata": {},
   "outputs": [
    {
     "name": "stdout",
     "output_type": "stream",
     "text": [
      " Введите число - 3\n",
      " Введите число - 4\n",
      " Введите число - 8\n",
      " Введите число - 1\n",
      " Введите число - 5\n",
      " Введите число - 0\n",
      "Результат -  21\n"
     ]
    }
   ],
   "source": [
    "# вариант 2\n",
    "\n",
    "user_input_2 = int(input(' Введите число - '))\n",
    "resultat = 0\n",
    "while user_input_2 != 0: \n",
    "    resultat += user_input_2\n",
    "    user_input_2 = int(input(' Введите число - '))\n",
    "print ('Результат - ', resultat)"
   ]
  },
  {
   "cell_type": "markdown",
   "metadata": {},
   "source": [
    "## Задание 3"
   ]
  },
  {
   "cell_type": "code",
   "execution_count": 48,
   "metadata": {},
   "outputs": [
    {
     "name": "stdout",
     "output_type": "stream",
     "text": [
      "Alex and Emma\n",
      "Arthur and Kate\n",
      "John and Kira\n",
      "Peter and Liza\n",
      "Richard and Trisha\n"
     ]
    }
   ],
   "source": [
    "boys = ['Peter', 'Alex', 'John', 'Arthur', 'Richard']\n",
    "girls = ['Kate', 'Liza', 'Kira', 'Emma', 'Trisha']\n",
    "sort_boys = sorted(boys)\n",
    "sort_girls = sorted(girls)\n",
    "boys_girls = zip(sort_boys,sort_girls)\n",
    "for name in list(boys_girls):\n",
    "    print(f\"{name[0]} and {name[1]}\")"
   ]
  },
  {
   "cell_type": "markdown",
   "metadata": {},
   "source": [
    "## Задание № 4"
   ]
  },
  {
   "cell_type": "code",
   "execution_count": 47,
   "metadata": {},
   "outputs": [
    {
     "name": "stdout",
     "output_type": "stream",
     "text": [
      "Average temperature in degrees Celsius in:  Thailand - 23.857142857142854\n",
      "Average temperature in degrees Celsius in:  Germany - 13.799999999999999\n",
      "Average temperature in degrees Celsius in:  Russia - 3.714285714285717\n",
      "Average temperature in degrees Celsius in:  Poland - 11.999999999999998\n"
     ]
    }
   ],
   "source": [
    "countries_temperature = [\n",
    "    ['Thailand', [75.2, 77, 78.8, 73.4, 68, 75.2, 77]],\n",
    "    ['Germany', [57.2, 55.4, 59, 59, 53.6]],\n",
    "    ['Russia', [35.6, 37.4, 39.2, 41, 42.8, 39.2, 35.6]],\n",
    "    ['Poland', [50, 50, 53.6, 57.2, 55.4, 55.4]]\n",
    "]\n",
    "for element in (countries_temperature):\n",
    "    print(\"Average temperature in degrees Celsius in: \", element[0],\"-\", 5 / 9 * ((sum(element[1]) / len(element[1])-32)))"
   ]
  }
 ],
 "metadata": {
  "kernelspec": {
   "display_name": "Python 3",
   "language": "python",
   "name": "python3"
  },
  "language_info": {
   "codemirror_mode": {
    "name": "ipython",
    "version": 3
   },
   "file_extension": ".py",
   "mimetype": "text/x-python",
   "name": "python",
   "nbconvert_exporter": "python",
   "pygments_lexer": "ipython3",
   "version": "3.8.5"
  }
 },
 "nbformat": 4,
 "nbformat_minor": 4
}
