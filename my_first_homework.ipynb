{
 "cells": [
  {
   "cell_type": "markdown",
   "metadata": {},
   "source": [
    "## Задание № 1 "
   ]
  },
  {
   "cell_type": "code",
   "execution_count": 1,
   "metadata": {},
   "outputs": [
    {
     "name": "stdout",
     "output_type": "stream",
     "text": [
      "1 фраза длинее 2 фразы\n"
     ]
    }
   ],
   "source": [
    "phrase_1 = \"первый раз делаю ДЗ в юпитер ноутбуке\"\n",
    "phrase_2 = \"пока сложно, но надеюсь на лучшее\"\n",
    "if len(phrase_1) > len(phrase_2):\n",
    "    print (\"1 фраза длинее 2 фразы\")\n",
    "elif len(phrase_1) < len(phrase_2):\n",
    "    print(\"1 фраза длинее 2 фразы\")\n",
    "elif len(phrase_1) == len(phrase_2):\n",
    "    print(\"Фразы равной длины\")"
   ]
  },
  {
   "cell_type": "markdown",
   "metadata": {},
   "source": [
    "## Задание № 2"
   ]
  },
  {
   "cell_type": "code",
   "execution_count": 1,
   "metadata": {},
   "outputs": [
    {
     "name": "stdout",
     "output_type": "stream",
     "text": [
      "2020 - високосный год\n"
     ]
    }
   ],
   "source": [
    "a = 2020\n",
    "if a % 4 == 0:\n",
    "    print (a, '- високосный год')\n",
    "else:\n",
    "    print (a, '- обычный год')"
   ]
  },
  {
   "cell_type": "markdown",
   "metadata": {},
   "source": [
    "## Задание № 3"
   ]
  },
  {
   "cell_type": "code",
   "execution_count": 4,
   "metadata": {},
   "outputs": [
    {
     "name": "stdout",
     "output_type": "stream",
     "text": [
      " Введите месяц 8\n",
      " Введите день 15\n",
      "Вы - Лев\n"
     ]
    }
   ],
   "source": [
    "user_input = int(input(' Введите месяц '))\n",
    "user_input_2 = int(input(' Введите день '))\n",
    "if user_input == 1 and 21 <= user_input_2 <= 31 or user_input == 2 and 1 <= user_input_2 <= 20:\n",
    "    print('Вы - Водолей') \n",
    "elif user_input == 2 and 21 <= user_input_2 <= 29 or user_input == 3 and 1 <= user_input_2 <= 20:\n",
    "    print('Вы - Рыба')\n",
    "elif user_input == 3 and 21 <= user_input_2 <= 31 or user_input == 4 and 1 <= user_input_2 <= 20:\n",
    "    print('Вы - Овен')\n",
    "elif user_input == 4 and 21 <= user_input_2 <= 30 or user_input == 5 and 1 <= user_input_2 <= 20:\n",
    "    print('Вы - Телец')\n",
    "elif user_input == 5 and 21 <= user_input_2 <= 31 or user_input == 6 and 1 <= user_input_2 <= 21:\n",
    "    print ('Вы - Близнецы')\n",
    "elif user_input == 6 and 22 <= user_input_2 <= 30 or user_input == 7 and 1 <= user_input_2 <= 22:\n",
    "    print ('Вы - Рак')\n",
    "elif user_input == 7 and 23 <= user_input_2 <= 31 or user_input == 8 and 1 <= user_input_2 <= 23:\n",
    "    print ('Вы - Лев')\n",
    "elif user_input == 8 and 24 <= user_input_2 <= 31 or user_input == 9 and 1 <= user_input_2 <= 23:\n",
    "    print ('Вы - Дева')\n",
    "elif user_input == 9 and 24 <= user_input_2 <= 30 or user_input == 10 and 1 <= user_input_2 <= 23:\n",
    "    print ('Вы - Весы')\n",
    "elif user_input == 10 and 24 <= user_input_2 <= 31 or user_input == 11 and 1 <= user_input_2 <= 22:\n",
    "    print ('Вы - Скорпион')\n",
    "elif user_input == 11 and 23 <= user_input_2 <= 30 or user_input == 12 and 1 <= user_input_2 <= 21:\n",
    "    print ('Вы - Стрелец')\n",
    "elif user_input == 12 and 22 <= user_input_2 <= 31 or user_input == 1 and 1 <= user_input_2 <= 20:\n",
    "    print ('Вы - Козерог')\n",
    "else: print ('Неправильная дата. Повторите ввод.')"
   ]
  },
  {
   "cell_type": "markdown",
   "metadata": {},
   "source": [
    "## Задание 4 "
   ]
  },
  {
   "cell_type": "code",
   "execution_count": 4,
   "metadata": {},
   "outputs": [
    {
     "name": "stdout",
     "output_type": "stream",
     "text": [
      " Введите width 88\n",
      " Введите length 148\n",
      " Введите height 3\n",
      "Коробка № 3\n"
     ]
    }
   ],
   "source": [
    "user_input = int(input(' Введите width '))\n",
    "user_input_2 = int(input(' Введите length '))\n",
    "user_input_3 = int(input(' Введите height '))\n",
    "if user_input < 15 and user_input_2 < 15 and user_input_3 < 15:\n",
    "    print ('Коробка № 1')\n",
    "elif user_input_2 > 200:\n",
    "    print ('Упаковка для лыж') \n",
    "elif 15 < user_input < 50 or 15 < user_input_2 < 50 or 15 < user_input_3 < 50: \n",
    "    print ('Коробка № 2')    \n",
    "else:\n",
    "    print ('Коробка № 3')"
   ]
  },
  {
   "cell_type": "markdown",
   "metadata": {},
   "source": [
    "## Задание 5"
   ]
  },
  {
   "cell_type": "code",
   "execution_count": 2,
   "metadata": {},
   "outputs": [
    {
     "name": "stdout",
     "output_type": "stream",
     "text": [
      " Первое число билета - 3\n",
      " Второе число билета - 7\n",
      " Третье число билета - 2\n",
      " Четвертое число билета - 9\n",
      " Пятое число билета - 1\n",
      " Шестое число билета - 9\n",
      "Несчастливый билет\n"
     ]
    }
   ],
   "source": [
    "user_input_1 = int(input(' Первое число билета - '))\n",
    "user_input_2 = int(input(' Второе число билета - '))\n",
    "user_input_3 = int(input(' Третье число билета - '))\n",
    "user_input_4 = int(input(' Четвертое число билета - '))\n",
    "user_input_5 = int(input(' Пятое число билета - '))\n",
    "user_input_6 = int(input(' Шестое число билета - '))\n",
    "if user_input_1 + user_input_2 + user_input_3 == user_input_4 + user_input_5 + user_input_6:\n",
    "    print ('Счастливый билет')\n",
    "else:\n",
    "    print ('Несчастливый билет')"
   ]
  }
 ],
 "metadata": {
  "kernelspec": {
   "display_name": "Python 3",
   "language": "python",
   "name": "python3"
  },
  "language_info": {
   "codemirror_mode": {
    "name": "ipython",
    "version": 3
   },
   "file_extension": ".py",
   "mimetype": "text/x-python",
   "name": "python",
   "nbconvert_exporter": "python",
   "pygments_lexer": "ipython3",
   "version": "3.8.5"
  }
 },
 "nbformat": 4,
 "nbformat_minor": 4
}
